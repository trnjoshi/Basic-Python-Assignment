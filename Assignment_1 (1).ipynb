{
 "cells": [
  {
   "cell_type": "markdown",
   "id": "302d8ca2",
   "metadata": {},
   "source": [
    "# 1. In the below elements which of them are values or an expression? eg:- values can be integer or string and expressions will be mathematical operators.\n",
    "*\n",
    "&#39;hello&#39;\n",
    "-87.8\n",
    "-\n",
    "/\n",
    "+\n",
    "6\n"
   ]
  },
  {
   "cell_type": "markdown",
   "id": "78103e64",
   "metadata": {},
   "source": [
    "* is expression\n",
    "'hello' is value\n",
    "-87.8 is value\n",
    "- is expression\n",
    "/ is expression\n",
    "+ is expression\n",
    "6 is value"
   ]
  },
  {
   "cell_type": "markdown",
   "id": "6a1c6b15",
   "metadata": {},
   "source": [
    "# 2. What is the difference between string and variable?"
   ]
  },
  {
   "cell_type": "markdown",
   "id": "8cf66864",
   "metadata": {},
   "source": [
    "A Variable is a store of information, and a String is a type of information you would store in a Variable."
   ]
  },
  {
   "cell_type": "markdown",
   "id": "17095ad2",
   "metadata": {},
   "source": [
    "# 3. Describe three different data types."
   ]
  },
  {
   "cell_type": "markdown",
   "id": "d5574f96",
   "metadata": {},
   "source": [
    "Data type is associated witha piece of data that defines how to interpret its value.Differe type of it are as below\n",
    "1. Integer- It is the most common numeric data type used to store numbers without a fractional component ex- 7 , 10\n",
    "2. String - It is a sequence of characters and the most commonly used data type to store text. Additionally, a string can also include digits and symbols, however, it is always treated as text.ex \"Python\"\n",
    "3. Boolean- It represents the values true and false. When working with the boolean data type, it is helpful to keep in mind that sometimes a boolean value is also represented as 0 (for false) and 1 (for true)."
   ]
  },
  {
   "cell_type": "markdown",
   "id": "1a81989d",
   "metadata": {},
   "source": [
    "## 4. What is an expression made up of? What do all expressions do?"
   ]
  },
  {
   "cell_type": "markdown",
   "id": "f3426916",
   "metadata": {},
   "source": [
    "An expression is a combination of operators and operands that is interpreted to produce some other value. In any programming language, an expression is evaluated as per the precedence of its operators. So that if there is more than one operator in an expression, their precedence decides which operation will be performed first."
   ]
  },
  {
   "cell_type": "markdown",
   "id": "f635cc31",
   "metadata": {},
   "source": [
    "## 5. This assignment statements, like spam = 10. What is the difference between an expression and a statement?"
   ]
  },
  {
   "cell_type": "markdown",
   "id": "8f91da15",
   "metadata": {},
   "source": [
    "Statements represent an action or command e.g print statements, assignment statements. Expression is a combination of variables, operations and values that yields a result value."
   ]
  },
  {
   "cell_type": "markdown",
   "id": "63b7e60b",
   "metadata": {},
   "source": [
    "## 6. After running the following code, what does the variable bacon contain?\n",
    "## bacon = 22\n",
    "## bacon + 1"
   ]
  },
  {
   "cell_type": "markdown",
   "id": "54c90c5b",
   "metadata": {},
   "source": [
    "22"
   ]
  },
  {
   "cell_type": "markdown",
   "id": "f2c34505",
   "metadata": {},
   "source": [
    "## 7. What should the values of the following two terms be?"
   ]
  },
  {
   "cell_type": "markdown",
   "id": "d9fd1de1",
   "metadata": {},
   "source": [
    "## 'spam'+'spamspam'"
   ]
  },
  {
   "cell_type": "markdown",
   "id": "aeda2db4",
   "metadata": {},
   "source": [
    "'spamspamspam'"
   ]
  },
  {
   "cell_type": "markdown",
   "id": "4f982c8c",
   "metadata": {},
   "source": [
    "## 'spam'*3"
   ]
  },
  {
   "cell_type": "markdown",
   "id": "09686bc1",
   "metadata": {},
   "source": [
    "'spamspamspam'"
   ]
  },
  {
   "cell_type": "markdown",
   "id": "d79d2a40",
   "metadata": {},
   "source": [
    "## 8. Why is eggs a valid variable name while 100 is invalid?"
   ]
  },
  {
   "cell_type": "markdown",
   "id": "534b3a23",
   "metadata": {},
   "source": [
    "Variable name can not start with a number"
   ]
  },
  {
   "cell_type": "markdown",
   "id": "3a34a98d",
   "metadata": {},
   "source": [
    "## 9. What three functions can be used to get the integer, floating-point number, or string version of a value?\n"
   ]
  },
  {
   "cell_type": "markdown",
   "id": "7d7e267e",
   "metadata": {},
   "source": [
    "int()\n",
    "float()\n",
    "str()"
   ]
  },
  {
   "cell_type": "markdown",
   "id": "b460233c",
   "metadata": {},
   "source": [
    "## 10. Why does this expression cause an error? How can you fix it?\n",
    "&#39;I have eaten &#39; + 99 + &#39; burritos.&#39;"
   ]
  },
  {
   "cell_type": "markdown",
   "id": "ca24ab61",
   "metadata": {},
   "source": [
    "The expression causes an error because 99 is an integer, and only strings can be concatenated to other strings with the + operator. The correct way is I have eaten ' + str(99) + ' burritos.'"
   ]
  },
  {
   "cell_type": "code",
   "execution_count": null,
   "id": "15ebc30f",
   "metadata": {},
   "outputs": [],
   "source": []
  }
 ],
 "metadata": {
  "kernelspec": {
   "display_name": "Python 3 (ipykernel)",
   "language": "python",
   "name": "python3"
  },
  "language_info": {
   "codemirror_mode": {
    "name": "ipython",
    "version": 3
   },
   "file_extension": ".py",
   "mimetype": "text/x-python",
   "name": "python",
   "nbconvert_exporter": "python",
   "pygments_lexer": "ipython3",
   "version": "3.9.7"
  }
 },
 "nbformat": 4,
 "nbformat_minor": 5
}
