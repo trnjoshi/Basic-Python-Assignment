{
 "cells": [
  {
   "cell_type": "markdown",
   "id": "53190d61",
   "metadata": {},
   "source": [
    "### 1. Why are functions advantageous to have in your programs?"
   ]
  },
  {
   "cell_type": "markdown",
   "id": "1ce2054d",
   "metadata": {},
   "source": [
    "Functions reduce the need for duplicate code. This makes programs shorter, easier to read, and easier to update."
   ]
  },
  {
   "cell_type": "markdown",
   "id": "5cadceeb",
   "metadata": {},
   "source": [
    "### 2. When does the code in a function run: when it&#39;s specified or when it&#39;s called?"
   ]
  },
  {
   "cell_type": "markdown",
   "id": "d68f35ae",
   "metadata": {},
   "source": [
    "Code of function runs when it's called."
   ]
  },
  {
   "cell_type": "markdown",
   "id": "147eddfa",
   "metadata": {},
   "source": [
    "### 3. What statement creates a function?"
   ]
  },
  {
   "cell_type": "markdown",
   "id": "ba85deae",
   "metadata": {},
   "source": [
    "The “def” keyword is a statement for defining a function in Python."
   ]
  },
  {
   "cell_type": "markdown",
   "id": "b6a7ee35",
   "metadata": {},
   "source": [
    "### 4. What is the difference between a function and a function call?"
   ]
  },
  {
   "cell_type": "markdown",
   "id": "106cd5dc",
   "metadata": {},
   "source": [
    "A function is a block of code that does a particular operation and returns a result. It usually accepts inputs as parameters and returns a result. The parameters are not mandatory.\n",
    "\n",
    "A function call is the code used to pass control to a function"
   ]
  },
  {
   "cell_type": "markdown",
   "id": "2c408f82",
   "metadata": {},
   "source": [
    "### 5. How many global scopes are there in a Python program? How many local scopes?"
   ]
  },
  {
   "cell_type": "markdown",
   "id": "223475b5",
   "metadata": {},
   "source": [
    "There is One global scope in python . Local scopes can be as many as functions we have"
   ]
  },
  {
   "cell_type": "markdown",
   "id": "0473dd78",
   "metadata": {},
   "source": [
    "### 6. What happens to variables in a local scope when the function call returns?"
   ]
  },
  {
   "cell_type": "markdown",
   "id": "9f013b56",
   "metadata": {},
   "source": [
    "A local variable becomes undefined after the function call completes "
   ]
  },
  {
   "cell_type": "markdown",
   "id": "66255a4b",
   "metadata": {},
   "source": [
    "### 7. What is the concept of a return value? Is it possible to have a return value in an expression?"
   ]
  },
  {
   "cell_type": "markdown",
   "id": "8230adad",
   "metadata": {},
   "source": [
    "A return is a value that a function returns to the calling script or function when it completes its task."
   ]
  },
  {
   "cell_type": "markdown",
   "id": "c10ec478",
   "metadata": {},
   "source": [
    "### 8. If a function does not have a return statement, what is the return value of a call to that function?"
   ]
  },
  {
   "cell_type": "markdown",
   "id": "f94d93c8",
   "metadata": {},
   "source": [
    "A function without an explicit return statement returns None"
   ]
  },
  {
   "cell_type": "markdown",
   "id": "4d4c71ed",
   "metadata": {},
   "source": [
    "### 9. How do you make a function variable refer to the global variable?"
   ]
  },
  {
   "cell_type": "markdown",
   "id": "6a45f50a",
   "metadata": {},
   "source": [
    "With the use of global keyword to declare which variables are global"
   ]
  },
  {
   "cell_type": "markdown",
   "id": "6411b183",
   "metadata": {},
   "source": [
    "### 10. What is the data type of None?"
   ]
  },
  {
   "cell_type": "markdown",
   "id": "7b4b0885",
   "metadata": {},
   "source": [
    "None is a data type of its own (NoneType) and only None can be None."
   ]
  },
  {
   "cell_type": "markdown",
   "id": "c7e986fd",
   "metadata": {},
   "source": [
    "### 11. What does the sentence import areallyourpetsnamederic do?"
   ]
  },
  {
   "cell_type": "markdown",
   "id": "c88208b0",
   "metadata": {},
   "source": [
    "import statement imports a module named areallyourpetsnamederic"
   ]
  },
  {
   "cell_type": "markdown",
   "id": "acdefc6f",
   "metadata": {},
   "source": [
    "### 12. If you had a bacon() feature in a spam module, what would you call it after importing spam?"
   ]
  },
  {
   "cell_type": "markdown",
   "id": "7b0ccbfd",
   "metadata": {},
   "source": [
    "spam.bacon()"
   ]
  },
  {
   "cell_type": "markdown",
   "id": "f7cac686",
   "metadata": {},
   "source": [
    "### 13. What can you do to save a programme from crashing if it encounters an error?"
   ]
  },
  {
   "cell_type": "markdown",
   "id": "1d75c810",
   "metadata": {},
   "source": [
    "We can use Try and except clause"
   ]
  },
  {
   "cell_type": "markdown",
   "id": "9f9d887a",
   "metadata": {},
   "source": [
    "### 14. What is the purpose of the try clause? What is the purpose of the except clause?"
   ]
  },
  {
   "cell_type": "markdown",
   "id": "64cb3fcc",
   "metadata": {},
   "source": [
    "The try block allows you to test a block of code for errors. The except block enables you to handle the error with a user-defined response."
   ]
  },
  {
   "cell_type": "code",
   "execution_count": null,
   "id": "8b57a504",
   "metadata": {},
   "outputs": [],
   "source": []
  }
 ],
 "metadata": {
  "kernelspec": {
   "display_name": "Python 3 (ipykernel)",
   "language": "python",
   "name": "python3"
  },
  "language_info": {
   "codemirror_mode": {
    "name": "ipython",
    "version": 3
   },
   "file_extension": ".py",
   "mimetype": "text/x-python",
   "name": "python",
   "nbconvert_exporter": "python",
   "pygments_lexer": "ipython3",
   "version": "3.9.7"
  }
 },
 "nbformat": 4,
 "nbformat_minor": 5
}
