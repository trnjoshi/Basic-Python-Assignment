{
 "cells": [
  {
   "cell_type": "markdown",
   "id": "87f20e06",
   "metadata": {},
   "source": [
    "## 1.What are the two values of the Boolean data type? How do you write them?"
   ]
  },
  {
   "cell_type": "markdown",
   "id": "4aa68ff9",
   "metadata": {},
   "source": [
    "There are two boolean values : True & False. To use this bool method is called."
   ]
  },
  {
   "cell_type": "markdown",
   "id": "c9d8004d",
   "metadata": {},
   "source": [
    "## 2. What are the three different types of Boolean operators?"
   ]
  },
  {
   "cell_type": "markdown",
   "id": "638c347a",
   "metadata": {},
   "source": [
    "Three different types of boolean operators are: AND , NOT & OR"
   ]
  },
  {
   "cell_type": "markdown",
   "id": "ff3e2a25",
   "metadata": {},
   "source": [
    "## 3. Make a list of each Boolean operator&#39;s truth tables (i.e. every possible combination of Boolean values for the operator and what it evaluate )."
   ]
  },
  {
   "cell_type": "code",
   "execution_count": null,
   "id": "fd5d4a5c",
   "metadata": {},
   "outputs": [],
   "source": [
    "For AND Operator\n",
    " Input-1 Input-2 Output\n",
    "     1      1      1\n",
    "     1      0      0    \n",
    "     0      1      0\n",
    "     0      0      0\n",
    "    \n",
    "For OR Operator\n",
    "Input-1 Input-2 Output\n",
    "     1      1      1\n",
    "     1      0      1    \n",
    "     0      1      1\n",
    "     0      0      0\n",
    "\n",
    "For NOT operator\n",
    "Input  Output\n",
    "  1      0\n",
    "  0      1 "
   ]
  },
  {
   "cell_type": "markdown",
   "id": "cee3fb6f",
   "metadata": {},
   "source": [
    " ## 4. What are the values of the following expressions? \n",
    "(5 &gt; 4) and (3 == 5)\n",
    "not (5 &gt; 4)\n",
    "(5 &gt; 4) or (3 == 5)\n",
    "not ((5 &gt; 4) or (3 == 5))\n",
    "(True and True) and (True == False)\n",
    "(not False) or (not True)"
   ]
  },
  {
   "cell_type": "markdown",
   "id": "84dafd17",
   "metadata": {},
   "source": [
    "(5 > 4) and (3 == 5) = False"
   ]
  },
  {
   "cell_type": "markdown",
   "id": "755214a8",
   "metadata": {},
   "source": [
    "not (5 > 4) = False"
   ]
  },
  {
   "cell_type": "markdown",
   "id": "e4502a97",
   "metadata": {},
   "source": [
    "(5 > 4) or (3 == 5) = True"
   ]
  },
  {
   "cell_type": "markdown",
   "id": "20f8b021",
   "metadata": {},
   "source": [
    "not ((5 > 4) or (3 == 5)) = False"
   ]
  },
  {
   "cell_type": "markdown",
   "id": "a3e65e7a",
   "metadata": {},
   "source": [
    "(True and True) and (True == False)  = False"
   ]
  },
  {
   "cell_type": "markdown",
   "id": "c70650a3",
   "metadata": {},
   "source": [
    "(not False) or (not True) = True"
   ]
  },
  {
   "cell_type": "markdown",
   "id": "090f5ee0",
   "metadata": {},
   "source": [
    " ## 5. What are the six comparison operators?"
   ]
  },
  {
   "cell_type": "markdown",
   "id": "933f6f40",
   "metadata": {},
   "source": [
    "less than (<),\n",
    "less than or equal to (<=), \n",
    "greater than (>), \n",
    "greater than or equal to (>=), \n",
    "equal to (==), \n",
    "not equal to (!=)."
   ]
  },
  {
   "cell_type": "markdown",
   "id": "112757a2",
   "metadata": {},
   "source": [
    "## 6 6. How do you tell the difference between the equal to and assignment operators?Describe a condition and when you would use one."
   ]
  },
  {
   "cell_type": "markdown",
   "id": "211709af",
   "metadata": {},
   "source": [
    "The “=” is an assignment operator is used to assign the value on the right to the variable on the left."
   ]
  },
  {
   "cell_type": "markdown",
   "id": "19b925ad",
   "metadata": {},
   "source": [
    "The ‘==’ operator checks whether the two given operands are equal or not. If so, it returns true. Otherwise it returns false."
   ]
  },
  {
   "cell_type": "markdown",
   "id": "a6016de4",
   "metadata": {},
   "source": [
    "Ex. a = 10,\n",
    "a == b"
   ]
  },
  {
   "cell_type": "markdown",
   "id": "02246922",
   "metadata": {},
   "source": [
    "## 7. Identify the three blocks in this code:\n",
    "spam = 0\n",
    "if spam == 10:\n",
    "print(&#39;eggs&#39;)\n",
    "if spam &gt; 5:\n",
    "print(&#39;bacon&#39;)\n",
    "else:\n",
    "print(&#39;ham&#39;)\n",
    "print(&#39;spam&#39;)\n",
    "print(&#39;spam&#39;)"
   ]
  },
  {
   "cell_type": "markdown",
   "id": "78400fa1",
   "metadata": {},
   "source": [
    "1st block, spam = 0 \n",
    "2nd blcok, if spam == 10:\n",
    "print(&#39;eggs&#39;)\n",
    "3rd block, if spam &gt; 5:\n",
    "print(&#39;bacon&#39;)\n",
    "else:\n",
    "print(&#39;ham&#39;)\n",
    "print(&#39;spam&#39;)\n",
    "print(&#39;spam&#39;)"
   ]
  },
  {
   "cell_type": "markdown",
   "id": "15cf8023",
   "metadata": {},
   "source": [
    "## 8. Write code that prints Hello if 1 is stored in spam, prints Howdy if 2 is stored in spam, and prints Greetings! if anything else is stored in spam."
   ]
  },
  {
   "cell_type": "code",
   "execution_count": 12,
   "id": "b3595886",
   "metadata": {},
   "outputs": [
    {
     "name": "stdout",
     "output_type": "stream",
     "text": [
      "Enter the value5\n",
      "Greetings\n"
     ]
    }
   ],
   "source": [
    "spam = int(input(\"Enter the value = \"))\n",
    "if spam == 1:\n",
    "    print(\"Hello\")\n",
    "elif spam == 2 :\n",
    "    print(\"Howdy\")\n",
    "else :\n",
    "    print(\"Greetings\")"
   ]
  },
  {
   "cell_type": "markdown",
   "id": "7e78f5f1",
   "metadata": {},
   "source": [
    "## 9.If your programme is stuck in an endless loop, what keys you’ll press?"
   ]
  },
  {
   "cell_type": "markdown",
   "id": "fa679169",
   "metadata": {},
   "source": [
    "CTRL + C"
   ]
  },
  {
   "cell_type": "markdown",
   "id": "168b55bd",
   "metadata": {},
   "source": [
    "## 10. How can you tell the difference between break and continue?"
   ]
  },
  {
   "cell_type": "markdown",
   "id": "2eb98065",
   "metadata": {},
   "source": [
    "The 'break 'stop the continuation of the loop. \n",
    "The 'continue' does not stop the continuation of loop and it stops the current."
   ]
  },
  {
   "cell_type": "markdown",
   "id": "20e04590",
   "metadata": {},
   "source": [
    "## 11. In a for loop, what is the difference between range(10), range(0, 10), and range(0, 10, 1)? "
   ]
  },
  {
   "cell_type": "markdown",
   "id": "5c11ef36",
   "metadata": {},
   "source": [
    "All functions gives the same output."
   ]
  },
  {
   "cell_type": "markdown",
   "id": "3b955e53",
   "metadata": {},
   "source": [
    "## 12. Write a short program that prints the numbers 1 to 10 using a for loop. Then write an equivalent program that prints the numbers 1 to 10 using a while loop."
   ]
  },
  {
   "cell_type": "code",
   "execution_count": 17,
   "id": "c68e9518",
   "metadata": {},
   "outputs": [
    {
     "name": "stdout",
     "output_type": "stream",
     "text": [
      "1\n",
      "2\n",
      "3\n",
      "4\n",
      "5\n",
      "6\n",
      "7\n",
      "8\n",
      "9\n",
      "10\n"
     ]
    }
   ],
   "source": [
    "for i in range(1,11):\n",
    "    print(i)"
   ]
  },
  {
   "cell_type": "code",
   "execution_count": 20,
   "id": "1f170dc5",
   "metadata": {},
   "outputs": [
    {
     "name": "stdout",
     "output_type": "stream",
     "text": [
      "1\n",
      "2\n",
      "3\n",
      "4\n",
      "5\n",
      "6\n",
      "7\n",
      "8\n",
      "9\n",
      "10\n"
     ]
    }
   ],
   "source": [
    "i = 1\n",
    "while i <= 10 :\n",
    "    print(i)\n",
    "    i += 1"
   ]
  },
  {
   "cell_type": "markdown",
   "id": "3cfe6c71",
   "metadata": {},
   "source": [
    "## 13. If you had a function named bacon() inside a module named spam, how would you call it after importing spam?"
   ]
  },
  {
   "cell_type": "markdown",
   "id": "f85c5cbb",
   "metadata": {},
   "source": [
    "spam.bacon()"
   ]
  }
 ],
 "metadata": {
  "kernelspec": {
   "display_name": "Python 3 (ipykernel)",
   "language": "python",
   "name": "python3"
  },
  "language_info": {
   "codemirror_mode": {
    "name": "ipython",
    "version": 3
   },
   "file_extension": ".py",
   "mimetype": "text/x-python",
   "name": "python",
   "nbconvert_exporter": "python",
   "pygments_lexer": "ipython3",
   "version": "3.9.7"
  }
 },
 "nbformat": 4,
 "nbformat_minor": 5
}
